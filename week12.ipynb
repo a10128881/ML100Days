{
 "cells": [
  {
   "cell_type": "markdown",
   "metadata": {
    "id": "9ckBC4qSFJ2u"
   },
   "source": [
    "作業目標:<br>\n",
    "1. 靈活運用圖表在各種情況下\n",
    "2. 圖表的解讀"
   ]
  },
  {
   "cell_type": "markdown",
   "metadata": {
    "id": "wkssN_r7UT2o"
   },
   "source": [
    "作業重點:<br>\n",
    "1. 依據需求畫出圖表<br>\n",
    "2. 在做圖表解釋時，須了解圖表中的含意"
   ]
  },
  {
   "cell_type": "markdown",
   "metadata": {
    "id": "B9B8LGwLFORw"
   },
   "source": [
    "題目 : 將資料夾中boston.csv讀進來，並用圖表分析欄位。<br>\n",
    "1.畫出箱型圖，並判斷哪個欄位的中位數在300~400之間?<br>\n",
    "2.畫出散佈圖 x='NOX', y='DIS' ，並說明這兩欄位有什麼關係?\n"
   ]
  },
  {
   "cell_type": "code",
   "execution_count": 2,
   "metadata": {
    "id": "8EK9ei8pFNNd"
   },
   "outputs": [],
   "source": [
    "import pandas as pd\n",
    "import numpy as np"
   ]
  },
  {
   "cell_type": "raw",
   "metadata": {
    "executionInfo": {
     "elapsed": 717,
     "status": "ok",
     "timestamp": 1610349894715,
     "user": {
      "displayName": "献竤黃",
      "photoUrl": "",
      "userId": "07529243043474362942"
     },
     "user_tz": -480
    },
    "id": "j8oG-3XJGECZ"
   },
   "source": [
    "#1.畫出箱型圖，並判斷哪個欄位的中位數在300~400之間?"
   ]
  },
  {
   "cell_type": "code",
   "execution_count": 3,
   "metadata": {},
   "outputs": [
    {
     "data": {
      "text/html": [
       "<div>\n",
       "<style scoped>\n",
       "    .dataframe tbody tr th:only-of-type {\n",
       "        vertical-align: middle;\n",
       "    }\n",
       "\n",
       "    .dataframe tbody tr th {\n",
       "        vertical-align: top;\n",
       "    }\n",
       "\n",
       "    .dataframe thead th {\n",
       "        text-align: right;\n",
       "    }\n",
       "</style>\n",
       "<table border=\"1\" class=\"dataframe\">\n",
       "  <thead>\n",
       "    <tr style=\"text-align: right;\">\n",
       "      <th></th>\n",
       "      <th>key</th>\n",
       "      <th>CRIM</th>\n",
       "      <th>ZN</th>\n",
       "      <th>INDUS</th>\n",
       "      <th>CHAS</th>\n",
       "      <th>NOX</th>\n",
       "      <th>RM</th>\n",
       "      <th>AGE</th>\n",
       "      <th>DIS</th>\n",
       "      <th>RAD</th>\n",
       "      <th>TAX</th>\n",
       "      <th>PTRATIO</th>\n",
       "      <th>B</th>\n",
       "      <th>LSTAT</th>\n",
       "    </tr>\n",
       "  </thead>\n",
       "  <tbody>\n",
       "    <tr>\n",
       "      <th>0</th>\n",
       "      <td>1</td>\n",
       "      <td>0.02731</td>\n",
       "      <td>0.0</td>\n",
       "      <td>7.07</td>\n",
       "      <td>0.0</td>\n",
       "      <td>0.469</td>\n",
       "      <td>6.421</td>\n",
       "      <td>78.9</td>\n",
       "      <td>4.9671</td>\n",
       "      <td>2.0</td>\n",
       "      <td>242.0</td>\n",
       "      <td>17.8</td>\n",
       "      <td>396.90</td>\n",
       "      <td>9.14</td>\n",
       "    </tr>\n",
       "    <tr>\n",
       "      <th>1</th>\n",
       "      <td>2</td>\n",
       "      <td>0.02729</td>\n",
       "      <td>0.0</td>\n",
       "      <td>7.07</td>\n",
       "      <td>0.0</td>\n",
       "      <td>0.469</td>\n",
       "      <td>7.185</td>\n",
       "      <td>61.1</td>\n",
       "      <td>4.9671</td>\n",
       "      <td>2.0</td>\n",
       "      <td>242.0</td>\n",
       "      <td>17.8</td>\n",
       "      <td>392.83</td>\n",
       "      <td>4.03</td>\n",
       "    </tr>\n",
       "    <tr>\n",
       "      <th>2</th>\n",
       "      <td>3</td>\n",
       "      <td>0.03237</td>\n",
       "      <td>0.0</td>\n",
       "      <td>2.18</td>\n",
       "      <td>0.0</td>\n",
       "      <td>0.458</td>\n",
       "      <td>6.998</td>\n",
       "      <td>45.8</td>\n",
       "      <td>6.0622</td>\n",
       "      <td>3.0</td>\n",
       "      <td>222.0</td>\n",
       "      <td>18.7</td>\n",
       "      <td>394.63</td>\n",
       "      <td>2.94</td>\n",
       "    </tr>\n",
       "    <tr>\n",
       "      <th>3</th>\n",
       "      <td>4</td>\n",
       "      <td>0.06905</td>\n",
       "      <td>0.0</td>\n",
       "      <td>2.18</td>\n",
       "      <td>0.0</td>\n",
       "      <td>0.458</td>\n",
       "      <td>7.147</td>\n",
       "      <td>54.2</td>\n",
       "      <td>6.0622</td>\n",
       "      <td>3.0</td>\n",
       "      <td>222.0</td>\n",
       "      <td>18.7</td>\n",
       "      <td>396.90</td>\n",
       "      <td>5.33</td>\n",
       "    </tr>\n",
       "    <tr>\n",
       "      <th>4</th>\n",
       "      <td>5</td>\n",
       "      <td>0.02985</td>\n",
       "      <td>0.0</td>\n",
       "      <td>2.18</td>\n",
       "      <td>0.0</td>\n",
       "      <td>0.458</td>\n",
       "      <td>6.430</td>\n",
       "      <td>58.7</td>\n",
       "      <td>6.0622</td>\n",
       "      <td>3.0</td>\n",
       "      <td>222.0</td>\n",
       "      <td>18.7</td>\n",
       "      <td>394.12</td>\n",
       "      <td>5.21</td>\n",
       "    </tr>\n",
       "    <tr>\n",
       "      <th>...</th>\n",
       "      <td>...</td>\n",
       "      <td>...</td>\n",
       "      <td>...</td>\n",
       "      <td>...</td>\n",
       "      <td>...</td>\n",
       "      <td>...</td>\n",
       "      <td>...</td>\n",
       "      <td>...</td>\n",
       "      <td>...</td>\n",
       "      <td>...</td>\n",
       "      <td>...</td>\n",
       "      <td>...</td>\n",
       "      <td>...</td>\n",
       "      <td>...</td>\n",
       "    </tr>\n",
       "    <tr>\n",
       "      <th>500</th>\n",
       "      <td>501</td>\n",
       "      <td>0.06263</td>\n",
       "      <td>0.0</td>\n",
       "      <td>11.93</td>\n",
       "      <td>0.0</td>\n",
       "      <td>0.573</td>\n",
       "      <td>6.593</td>\n",
       "      <td>69.1</td>\n",
       "      <td>2.4786</td>\n",
       "      <td>1.0</td>\n",
       "      <td>273.0</td>\n",
       "      <td>21.0</td>\n",
       "      <td>391.99</td>\n",
       "      <td>9.67</td>\n",
       "    </tr>\n",
       "    <tr>\n",
       "      <th>501</th>\n",
       "      <td>502</td>\n",
       "      <td>0.04527</td>\n",
       "      <td>0.0</td>\n",
       "      <td>11.93</td>\n",
       "      <td>0.0</td>\n",
       "      <td>0.573</td>\n",
       "      <td>6.120</td>\n",
       "      <td>76.7</td>\n",
       "      <td>2.2875</td>\n",
       "      <td>1.0</td>\n",
       "      <td>273.0</td>\n",
       "      <td>21.0</td>\n",
       "      <td>396.90</td>\n",
       "      <td>9.08</td>\n",
       "    </tr>\n",
       "    <tr>\n",
       "      <th>502</th>\n",
       "      <td>503</td>\n",
       "      <td>0.06076</td>\n",
       "      <td>0.0</td>\n",
       "      <td>11.93</td>\n",
       "      <td>0.0</td>\n",
       "      <td>0.573</td>\n",
       "      <td>6.976</td>\n",
       "      <td>91.0</td>\n",
       "      <td>2.1675</td>\n",
       "      <td>1.0</td>\n",
       "      <td>273.0</td>\n",
       "      <td>21.0</td>\n",
       "      <td>396.90</td>\n",
       "      <td>5.64</td>\n",
       "    </tr>\n",
       "    <tr>\n",
       "      <th>503</th>\n",
       "      <td>504</td>\n",
       "      <td>0.10959</td>\n",
       "      <td>0.0</td>\n",
       "      <td>11.93</td>\n",
       "      <td>0.0</td>\n",
       "      <td>0.573</td>\n",
       "      <td>6.794</td>\n",
       "      <td>89.3</td>\n",
       "      <td>2.3889</td>\n",
       "      <td>1.0</td>\n",
       "      <td>273.0</td>\n",
       "      <td>21.0</td>\n",
       "      <td>393.45</td>\n",
       "      <td>6.48</td>\n",
       "    </tr>\n",
       "    <tr>\n",
       "      <th>504</th>\n",
       "      <td>505</td>\n",
       "      <td>0.04741</td>\n",
       "      <td>0.0</td>\n",
       "      <td>11.93</td>\n",
       "      <td>0.0</td>\n",
       "      <td>0.573</td>\n",
       "      <td>6.030</td>\n",
       "      <td>80.8</td>\n",
       "      <td>2.5050</td>\n",
       "      <td>1.0</td>\n",
       "      <td>273.0</td>\n",
       "      <td>21.0</td>\n",
       "      <td>396.90</td>\n",
       "      <td>7.88</td>\n",
       "    </tr>\n",
       "  </tbody>\n",
       "</table>\n",
       "<p>505 rows × 14 columns</p>\n",
       "</div>"
      ],
      "text/plain": [
       "     key     CRIM   ZN  INDUS  CHAS    NOX     RM   AGE     DIS  RAD    TAX  \\\n",
       "0      1  0.02731  0.0   7.07   0.0  0.469  6.421  78.9  4.9671  2.0  242.0   \n",
       "1      2  0.02729  0.0   7.07   0.0  0.469  7.185  61.1  4.9671  2.0  242.0   \n",
       "2      3  0.03237  0.0   2.18   0.0  0.458  6.998  45.8  6.0622  3.0  222.0   \n",
       "3      4  0.06905  0.0   2.18   0.0  0.458  7.147  54.2  6.0622  3.0  222.0   \n",
       "4      5  0.02985  0.0   2.18   0.0  0.458  6.430  58.7  6.0622  3.0  222.0   \n",
       "..   ...      ...  ...    ...   ...    ...    ...   ...     ...  ...    ...   \n",
       "500  501  0.06263  0.0  11.93   0.0  0.573  6.593  69.1  2.4786  1.0  273.0   \n",
       "501  502  0.04527  0.0  11.93   0.0  0.573  6.120  76.7  2.2875  1.0  273.0   \n",
       "502  503  0.06076  0.0  11.93   0.0  0.573  6.976  91.0  2.1675  1.0  273.0   \n",
       "503  504  0.10959  0.0  11.93   0.0  0.573  6.794  89.3  2.3889  1.0  273.0   \n",
       "504  505  0.04741  0.0  11.93   0.0  0.573  6.030  80.8  2.5050  1.0  273.0   \n",
       "\n",
       "     PTRATIO       B  LSTAT  \n",
       "0       17.8  396.90   9.14  \n",
       "1       17.8  392.83   4.03  \n",
       "2       18.7  394.63   2.94  \n",
       "3       18.7  396.90   5.33  \n",
       "4       18.7  394.12   5.21  \n",
       "..       ...     ...    ...  \n",
       "500     21.0  391.99   9.67  \n",
       "501     21.0  396.90   9.08  \n",
       "502     21.0  396.90   5.64  \n",
       "503     21.0  393.45   6.48  \n",
       "504     21.0  396.90   7.88  \n",
       "\n",
       "[505 rows x 14 columns]"
      ]
     },
     "execution_count": 3,
     "metadata": {},
     "output_type": "execute_result"
    }
   ],
   "source": [
    "boston_data=pd.read_csv('boston.csv')\n",
    "boston_data"
   ]
  },
  {
   "cell_type": "code",
   "execution_count": 7,
   "metadata": {},
   "outputs": [
    {
     "name": "stdout",
     "output_type": "stream",
     "text": [
      "          key      CRIM        ZN     INDUS      CHAS       NOX        RM  \\\n",
      "0    0.244086  0.316663  0.973157  0.511745  0.483635  0.713813  0.492709   \n",
      "1    0.456553  0.226561  0.796044  0.071326  0.027046  0.091771  0.012838   \n",
      "2    0.351921  0.345625  0.731224  0.507365  0.975483  0.453278  0.171320   \n",
      "3    0.504145  0.458277  0.279622  0.692093  0.170489  0.147307  0.091256   \n",
      "4    0.534970  0.840326  0.990861  0.044496  0.230148  0.729021  0.120029   \n",
      "..        ...       ...       ...       ...       ...       ...       ...   \n",
      "500  0.827967  0.081990  0.521594  0.626146  0.590999  0.197974  0.534563   \n",
      "501  0.156530  0.411691  0.103638  0.280624  0.091860  0.178718  0.038466   \n",
      "502  0.899777  0.327030  0.632959  0.249895  0.938500  0.071261  0.450024   \n",
      "503  0.550569  0.974896  0.539972  0.561940  0.657195  0.668784  0.830189   \n",
      "504  0.399945  0.168218  0.551483  0.017134  0.636249  0.416725  0.995552   \n",
      "\n",
      "          AGE       DIS       RAD       TAX   PTRATIO         B     LSTAT  \n",
      "0    0.140130  0.504805  0.404398  0.699206  0.579019  0.523494  0.743075  \n",
      "1    0.019072  0.752741  0.560049  0.965002  0.386983  0.398171  0.010237  \n",
      "2    0.756885  0.158830  0.056341  0.411404  0.512527  0.556603  0.075199  \n",
      "3    0.156733  0.253455  0.718745  0.571547  0.672817  0.306818  0.420171  \n",
      "4    0.233719  0.159804  0.081383  0.986343  0.178069  0.207502  0.693530  \n",
      "..        ...       ...       ...       ...       ...       ...       ...  \n",
      "500  0.135326  0.109611  0.052585  0.606072  0.623985  0.986369  0.989149  \n",
      "501  0.220779  0.760433  0.878778  0.635846  0.011930  0.539245  0.989017  \n",
      "502  0.906192  0.625521  0.801962  0.827560  0.528035  0.232759  0.135915  \n",
      "503  0.228359  0.032701  0.883144  0.042020  0.210424  0.295446  0.842353  \n",
      "504  0.453173  0.995484  0.265911  0.980695  0.876271  0.018708  0.351640  \n",
      "\n",
      "[505 rows x 14 columns]\n"
     ]
    },
    {
     "data": {
      "text/plain": [
       "<matplotlib.axes._subplots.AxesSubplot at 0x1de73d2ca00>"
      ]
     },
     "execution_count": 7,
     "metadata": {},
     "output_type": "execute_result"
    },
    {
     "data": {
      "image/png": "[encoded data removed]",
      "text/plain": [
       "<Figure size 432x288 with 1 Axes>"
      ]
     },
     "metadata": {
      "needs_background": "light"
     },
     "output_type": "display_data"
    }
   ],
   "source": [
    "df = pd.DataFrame(np.random.rand(505, 14), columns=['key','CRIM','ZN','INDUS','CHAS','NOX','RM','AGE','DIS','RAD','TAX','PTRATIO','B','LSTAT'])\n",
    "print(df)\n",
    "df.boxplot()"
   ]
  },
  {
   "cell_type": "code",
   "execution_count": 9,
   "metadata": {
    "id": "1YrW_1o9MXUy"
   },
   "outputs": [
    {
     "name": "stdout",
     "output_type": "stream",
     "text": [
      "          key      CRIM        ZN     INDUS      CHAS       NOX        RM  \\\n",
      "0    0.983936  0.766494  0.292998  0.800925  0.527166  0.795047  0.867515   \n",
      "1    0.670032  0.344965  0.111046  0.910803  0.920939  0.396743  0.224588   \n",
      "2    0.246403  0.080662  0.127376  0.561179  0.782321  0.790295  0.185813   \n",
      "3    0.550087  0.972111  0.077275  0.561457  0.967064  0.390744  0.008988   \n",
      "4    0.131290  0.614832  0.389110  0.904851  0.564856  0.953311  0.477327   \n",
      "..        ...       ...       ...       ...       ...       ...       ...   \n",
      "500  0.068257  0.370473  0.228011  0.241265  0.883750  0.644643  0.502656   \n",
      "501  0.202660  0.816258  0.977391  0.373338  0.658812  0.614517  0.844719   \n",
      "502  0.379920  0.769522  0.460928  0.479440  0.589894  0.990709  0.765894   \n",
      "503  0.233957  0.131003  0.219543  0.116283  0.646818  0.786048  0.971874   \n",
      "504  0.708137  0.927713  0.453842  0.853671  0.246128  0.163088  0.666211   \n",
      "\n",
      "          AGE       DIS       RAD       TAX   PTRATIO         B     LSTAT  \n",
      "0    0.645549  0.739767  0.715834  0.226172  0.383029  0.717568  0.934507  \n",
      "1    0.511348  0.325002  0.778619  0.794699  0.413686  0.477867  0.022802  \n",
      "2    0.162146  0.303855  0.770137  0.331296  0.301857  0.091223  0.055527  \n",
      "3    0.927424  0.274516  0.634921  0.971083  0.342321  0.701789  0.861012  \n",
      "4    0.186755  0.363807  0.215760  0.925984  0.780297  0.891688  0.788625  \n",
      "..        ...       ...       ...       ...       ...       ...       ...  \n",
      "500  0.173891  0.817653  0.399986  0.705427  0.494922  0.442184  0.107498  \n",
      "501  0.962739  0.349263  0.259876  0.379310  0.912137  0.915595  0.753348  \n",
      "502  0.134891  0.856103  0.492230  0.814596  0.765270  0.947432  0.931083  \n",
      "503  0.717856  0.879580  0.662641  0.933506  0.022530  0.038200  0.017384  \n",
      "504  0.892596  0.875094  0.710108  0.674271  0.516221  0.545158  0.299463  \n",
      "\n",
      "[505 rows x 14 columns]\n"
     ]
    },
    {
     "data": {
      "text/plain": [
       "<matplotlib.axes._subplots.AxesSubplot at 0x1de756cb880>"
      ]
     },
     "execution_count": 9,
     "metadata": {},
     "output_type": "execute_result"
    },
    {
     "data": {
      "image/png": "[encoded data removed]",
      "text/plain": [
       "<Figure size 432x288 with 1 Axes>"
      ]
     },
     "metadata": {
      "needs_background": "light"
     },
     "output_type": "display_data"
    }
   ],
   "source": [
    "#2. 畫出散佈圖 x='NOX', y='DIS' ，並說明這兩欄位有什麼關係?\n",
    "df = pd.DataFrame(np.random.rand(505, 14), columns=['key','CRIM','ZN','INDUS','CHAS','NOX','RM','AGE','DIS','RAD','TAX','PTRATIO','B','LSTAT'])\n",
    "print(df)\n",
    "df.plot.scatter(x='NOX', y='DIS')"
   ]
  },
  {
   "cell_type": "code",
   "execution_count": null,
   "metadata": {},
   "outputs": [],
   "source": []
  }
 ],
 "metadata": {
  "colab": {
   "authorship_tag": "ABX9TyOn1jxinLqgoqr5zj+PC82T",
   "collapsed_sections": [],
   "name": "作業題目.ipynb",
   "provenance": []
  },
  "kernelspec": {
   "display_name": "Python 3",
   "language": "python",
   "name": "python3"
  },
  "language_info": {
   "codemirror_mode": {
    "name": "ipython",
    "version": 3
   },
   "file_extension": ".py",
   "mimetype": "text/x-python",
   "name": "python",
   "nbconvert_exporter": "python",
   "pygments_lexer": "ipython3",
   "version": "3.8.3"
  }
 },
 "nbformat": 4,
 "nbformat_minor": 1
}
